{
 "cells": [
  {
   "cell_type": "markdown",
   "id": "b44ebb9e-2853-4bb8-9cf6-c6aff451d4f1",
   "metadata": {},
   "source": [
    "# Hindi Fake news detection:"
   ]
  },
  {
   "cell_type": "markdown",
   "id": "55c969f0-ccc7-4682-bad7-3c80e5250c34",
   "metadata": {},
   "source": [
    "## 1. Load Dataset:"
   ]
  },
  {
   "cell_type": "code",
   "execution_count": 3,
   "id": "835084ea-9b30-4a9c-9593-348ca98bfb82",
   "metadata": {},
   "outputs": [],
   "source": [
    "import pandas as pd"
   ]
  },
  {
   "cell_type": "code",
   "execution_count": 6,
   "id": "6573e1da-8902-4866-82cf-4bc1347014d2",
   "metadata": {},
   "outputs": [],
   "source": [
    "df_fake = pd.read_csv('FakeNews.csv')\n",
    "df_true = pd.read_csv('TrueNews.csv')"
   ]
  },
  {
   "cell_type": "markdown",
   "id": "300e9246-eea1-45bb-829d-dbd615734281",
   "metadata": {},
   "source": [
    "## 2. Data Preview:"
   ]
  },
  {
   "cell_type": "code",
   "execution_count": 7,
   "id": "df679752-4073-4aeb-8beb-a889065a08c8",
   "metadata": {},
   "outputs": [
    {
     "data": {
      "text/html": [
       "<div>\n",
       "<style scoped>\n",
       "    .dataframe tbody tr th:only-of-type {\n",
       "        vertical-align: middle;\n",
       "    }\n",
       "\n",
       "    .dataframe tbody tr th {\n",
       "        vertical-align: top;\n",
       "    }\n",
       "\n",
       "    .dataframe thead th {\n",
       "        text-align: right;\n",
       "    }\n",
       "</style>\n",
       "<table border=\"1\" class=\"dataframe\">\n",
       "  <thead>\n",
       "    <tr style=\"text-align: right;\">\n",
       "      <th></th>\n",
       "      <th>Column1</th>\n",
       "      <th>short_description</th>\n",
       "    </tr>\n",
       "  </thead>\n",
       "  <tbody>\n",
       "    <tr>\n",
       "      <th>0</th>\n",
       "      <td>1</td>\n",
       "      <td>गडकरी ने नहीं दिया है पीएम मोदी और राम मंदिर ...</td>\n",
       "    </tr>\n",
       "    <tr>\n",
       "      <th>1</th>\n",
       "      <td>2</td>\n",
       "      <td>राम मंदिर वहीं बना है जहां रामलला विराजमान थे...</td>\n",
       "    </tr>\n",
       "    <tr>\n",
       "      <th>2</th>\n",
       "      <td>3</td>\n",
       "      <td>यूपी में बोर्ड की परीक्षा नहीं हुई है रद्द, य...</td>\n",
       "    </tr>\n",
       "    <tr>\n",
       "      <th>3</th>\n",
       "      <td>4</td>\n",
       "      <td>नेपाल से अयोध्या के जुलूस का नहीं, ये ग्रेटर ...</td>\n",
       "    </tr>\n",
       "    <tr>\n",
       "      <th>4</th>\n",
       "      <td>5</td>\n",
       "      <td>एमपी का सीएम बनने के बाद मोहन यादव ने दी जनता...</td>\n",
       "    </tr>\n",
       "  </tbody>\n",
       "</table>\n",
       "</div>"
      ],
      "text/plain": [
       "   Column1                                  short_description\n",
       "0        1   गडकरी ने नहीं दिया है पीएम मोदी और राम मंदिर ...\n",
       "1        2   राम मंदिर वहीं बना है जहां रामलला विराजमान थे...\n",
       "2        3   यूपी में बोर्ड की परीक्षा नहीं हुई है रद्द, य...\n",
       "3        4   नेपाल से अयोध्या के जुलूस का नहीं, ये ग्रेटर ...\n",
       "4        5   एमपी का सीएम बनने के बाद मोहन यादव ने दी जनता..."
      ]
     },
     "execution_count": 7,
     "metadata": {},
     "output_type": "execute_result"
    }
   ],
   "source": [
    "df_fake.head()"
   ]
  },
  {
   "cell_type": "code",
   "execution_count": 8,
   "id": "86caa540-0436-4255-80d8-c1a98aa2f09f",
   "metadata": {},
   "outputs": [
    {
     "data": {
      "text/html": [
       "<div>\n",
       "<style scoped>\n",
       "    .dataframe tbody tr th:only-of-type {\n",
       "        vertical-align: middle;\n",
       "    }\n",
       "\n",
       "    .dataframe tbody tr th {\n",
       "        vertical-align: top;\n",
       "    }\n",
       "\n",
       "    .dataframe thead th {\n",
       "        text-align: right;\n",
       "    }\n",
       "</style>\n",
       "<table border=\"1\" class=\"dataframe\">\n",
       "  <thead>\n",
       "    <tr style=\"text-align: right;\">\n",
       "      <th></th>\n",
       "      <th>Column1</th>\n",
       "      <th>short_description</th>\n",
       "    </tr>\n",
       "  </thead>\n",
       "  <tbody>\n",
       "    <tr>\n",
       "      <th>2699</th>\n",
       "      <td>2700</td>\n",
       "      <td>राजस्थान की महिला MLA की छवि खराब करने के लि...</td>\n",
       "    </tr>\n",
       "    <tr>\n",
       "      <th>2700</th>\n",
       "      <td>2701</td>\n",
       "      <td>मध्य प्रदेश की साल 2019 की घटना को हालिया बत...</td>\n",
       "    </tr>\n",
       "    <tr>\n",
       "      <th>2701</th>\n",
       "      <td>2702</td>\n",
       "      <td>खुर्जा में बोइंग का वेयरहाउस खुला, लेकिन वायर...</td>\n",
       "    </tr>\n",
       "    <tr>\n",
       "      <th>2702</th>\n",
       "      <td>2703</td>\n",
       "      <td>जलते हुए समुद्री जहाज का यह वीडियो 2020 का है...</td>\n",
       "    </tr>\n",
       "    <tr>\n",
       "      <th>2703</th>\n",
       "      <td>2704</td>\n",
       "      <td>ढांचे वाली जगह पर ही बन रहा मंदिर, तीन किलोमी...</td>\n",
       "    </tr>\n",
       "  </tbody>\n",
       "</table>\n",
       "</div>"
      ],
      "text/plain": [
       "      Column1                                  short_description\n",
       "2699     2700    राजस्थान की महिला MLA की छवि खराब करने के लि...\n",
       "2700     2701    मध्य प्रदेश की साल 2019 की घटना को हालिया बत...\n",
       "2701     2702   खुर्जा में बोइंग का वेयरहाउस खुला, लेकिन वायर...\n",
       "2702     2703   जलते हुए समुद्री जहाज का यह वीडियो 2020 का है...\n",
       "2703     2704   ढांचे वाली जगह पर ही बन रहा मंदिर, तीन किलोमी..."
      ]
     },
     "execution_count": 8,
     "metadata": {},
     "output_type": "execute_result"
    }
   ],
   "source": [
    "df_fake.tail()"
   ]
  },
  {
   "cell_type": "code",
   "execution_count": 9,
   "id": "1aca281f-e088-402a-a52c-0894ad1aca86",
   "metadata": {},
   "outputs": [
    {
     "name": "stdout",
     "output_type": "stream",
     "text": [
      "<class 'pandas.core.frame.DataFrame'>\n",
      "RangeIndex: 2704 entries, 0 to 2703\n",
      "Data columns (total 2 columns):\n",
      " #   Column             Non-Null Count  Dtype \n",
      "---  ------             --------------  ----- \n",
      " 0   Column1            2704 non-null   int64 \n",
      " 1   short_description  2704 non-null   object\n",
      "dtypes: int64(1), object(1)\n",
      "memory usage: 42.4+ KB\n"
     ]
    }
   ],
   "source": [
    "df_fake.info()"
   ]
  },
  {
   "cell_type": "code",
   "execution_count": 10,
   "id": "a2b6806d-907c-40fa-a716-e293f5ba268e",
   "metadata": {},
   "outputs": [
    {
     "data": {
      "text/html": [
       "<div>\n",
       "<style scoped>\n",
       "    .dataframe tbody tr th:only-of-type {\n",
       "        vertical-align: middle;\n",
       "    }\n",
       "\n",
       "    .dataframe tbody tr th {\n",
       "        vertical-align: top;\n",
       "    }\n",
       "\n",
       "    .dataframe thead th {\n",
       "        text-align: right;\n",
       "    }\n",
       "</style>\n",
       "<table border=\"1\" class=\"dataframe\">\n",
       "  <thead>\n",
       "    <tr style=\"text-align: right;\">\n",
       "      <th></th>\n",
       "      <th>Column1</th>\n",
       "      <th>short_description</th>\n",
       "    </tr>\n",
       "  </thead>\n",
       "  <tbody>\n",
       "    <tr>\n",
       "      <th>0</th>\n",
       "      <td>1</td>\n",
       "      <td>राम मंदिर प्राण-प्रतिष्ठा: फर्श पर सोना-नारियल...</td>\n",
       "    </tr>\n",
       "    <tr>\n",
       "      <th>1</th>\n",
       "      <td>2</td>\n",
       "      <td>Ayodhya Ram Mandir Pran Pratishtha से पहले कठि...</td>\n",
       "    </tr>\n",
       "    <tr>\n",
       "      <th>2</th>\n",
       "      <td>3</td>\n",
       "      <td>8 PHOTOS:देखें रामलला की प्राण-प्रतिष्ठा से पह...</td>\n",
       "    </tr>\n",
       "    <tr>\n",
       "      <th>3</th>\n",
       "      <td>4</td>\n",
       "      <td>22 जनवरी को अयोध्या में कैसा रहेगा मौसम, जानें...</td>\n",
       "    </tr>\n",
       "    <tr>\n",
       "      <th>4</th>\n",
       "      <td>5</td>\n",
       "      <td>सोलापुर में PM की 15 बड़ी बातें, मोदी के 22 जन...</td>\n",
       "    </tr>\n",
       "  </tbody>\n",
       "</table>\n",
       "</div>"
      ],
      "text/plain": [
       "   Column1                                  short_description\n",
       "0        1  राम मंदिर प्राण-प्रतिष्ठा: फर्श पर सोना-नारियल...\n",
       "1        2  Ayodhya Ram Mandir Pran Pratishtha से पहले कठि...\n",
       "2        3  8 PHOTOS:देखें रामलला की प्राण-प्रतिष्ठा से पह...\n",
       "3        4  22 जनवरी को अयोध्या में कैसा रहेगा मौसम, जानें...\n",
       "4        5  सोलापुर में PM की 15 बड़ी बातें, मोदी के 22 जन..."
      ]
     },
     "execution_count": 10,
     "metadata": {},
     "output_type": "execute_result"
    }
   ],
   "source": [
    "df_true.head()"
   ]
  },
  {
   "cell_type": "code",
   "execution_count": 11,
   "id": "e47d70e5-ef78-441f-9c22-cea4d6028993",
   "metadata": {},
   "outputs": [
    {
     "data": {
      "text/html": [
       "<div>\n",
       "<style scoped>\n",
       "    .dataframe tbody tr th:only-of-type {\n",
       "        vertical-align: middle;\n",
       "    }\n",
       "\n",
       "    .dataframe tbody tr th {\n",
       "        vertical-align: top;\n",
       "    }\n",
       "\n",
       "    .dataframe thead th {\n",
       "        text-align: right;\n",
       "    }\n",
       "</style>\n",
       "<table border=\"1\" class=\"dataframe\">\n",
       "  <thead>\n",
       "    <tr style=\"text-align: right;\">\n",
       "      <th></th>\n",
       "      <th>Column1</th>\n",
       "      <th>short_description</th>\n",
       "    </tr>\n",
       "  </thead>\n",
       "  <tbody>\n",
       "    <tr>\n",
       "      <th>2699</th>\n",
       "      <td>2700</td>\n",
       "      <td>राजस्थान की महिला MLA की छवि खराब करने के लि...</td>\n",
       "    </tr>\n",
       "    <tr>\n",
       "      <th>2700</th>\n",
       "      <td>2701</td>\n",
       "      <td>मध्य प्रदेश की साल 2019 की घटना को हालिया बत...</td>\n",
       "    </tr>\n",
       "    <tr>\n",
       "      <th>2701</th>\n",
       "      <td>2702</td>\n",
       "      <td>खुर्जा में बोइंग का वेयरहाउस खुला, लेकिन वायर...</td>\n",
       "    </tr>\n",
       "    <tr>\n",
       "      <th>2702</th>\n",
       "      <td>2703</td>\n",
       "      <td>जलते हुए समुद्री जहाज का यह वीडियो 2020 का है...</td>\n",
       "    </tr>\n",
       "    <tr>\n",
       "      <th>2703</th>\n",
       "      <td>2704</td>\n",
       "      <td>ढांचे वाली जगह पर ही बन रहा मंदिर, तीन किलोमी...</td>\n",
       "    </tr>\n",
       "  </tbody>\n",
       "</table>\n",
       "</div>"
      ],
      "text/plain": [
       "      Column1                                  short_description\n",
       "2699     2700    राजस्थान की महिला MLA की छवि खराब करने के लि...\n",
       "2700     2701    मध्य प्रदेश की साल 2019 की घटना को हालिया बत...\n",
       "2701     2702   खुर्जा में बोइंग का वेयरहाउस खुला, लेकिन वायर...\n",
       "2702     2703   जलते हुए समुद्री जहाज का यह वीडियो 2020 का है...\n",
       "2703     2704   ढांचे वाली जगह पर ही बन रहा मंदिर, तीन किलोमी..."
      ]
     },
     "execution_count": 11,
     "metadata": {},
     "output_type": "execute_result"
    }
   ],
   "source": [
    "df_fake.tail()"
   ]
  },
  {
   "cell_type": "code",
   "execution_count": 12,
   "id": "69e096fb-44ab-499d-aa99-a51131ccf66e",
   "metadata": {},
   "outputs": [
    {
     "name": "stdout",
     "output_type": "stream",
     "text": [
      "<class 'pandas.core.frame.DataFrame'>\n",
      "RangeIndex: 4020 entries, 0 to 4019\n",
      "Data columns (total 2 columns):\n",
      " #   Column             Non-Null Count  Dtype \n",
      "---  ------             --------------  ----- \n",
      " 0   Column1            4020 non-null   int64 \n",
      " 1   short_description  4020 non-null   object\n",
      "dtypes: int64(1), object(1)\n",
      "memory usage: 62.9+ KB\n"
     ]
    }
   ],
   "source": [
    "df_true.info()"
   ]
  },
  {
   "cell_type": "code",
   "execution_count": 14,
   "id": "e31d9003-e863-48d8-9d24-ed88d4a92d05",
   "metadata": {},
   "outputs": [],
   "source": [
    "df_fake[\"class\"] = 0\n",
    "df_true[\"class\"] = 1"
   ]
  },
  {
   "cell_type": "code",
   "execution_count": 16,
   "id": "521dd343-3e46-486a-bd75-234a9b70fd69",
   "metadata": {},
   "outputs": [
    {
     "data": {
      "text/plain": [
       "((2704, 3), (4020, 3))"
      ]
     },
     "execution_count": 16,
     "metadata": {},
     "output_type": "execute_result"
    }
   ],
   "source": [
    "df_fake.shape, df_true.shape"
   ]
  },
  {
   "cell_type": "markdown",
   "id": "7b69f874-81d5-437f-9b2c-598130b5a736",
   "metadata": {},
   "source": [
    "### Saving some data for manual testing:"
   ]
  },
  {
   "cell_type": "code",
   "execution_count": 17,
   "id": "b27c3eb5-2089-466c-abd0-339441e1a979",
   "metadata": {},
   "outputs": [],
   "source": [
    "df_fake_manual_testing = df_fake.tail(10)\n",
    "for i in range(2703,2693,-1):\n",
    "    df_fake.drop([i],axis = 0, inplace = True)\n",
    "\n",
    "    \n",
    "df_true_manual_testing = df_true.tail(10)\n",
    "for i in range(4019,4009,-1):\n",
    "    df_true.drop([i],axis = 0, inplace = True)"
   ]
  },
  {
   "cell_type": "code",
   "execution_count": 18,
   "id": "ff01a3d9-8fc3-4ef1-9a71-14a92cb61ee3",
   "metadata": {},
   "outputs": [
    {
     "data": {
      "text/plain": [
       "((2694, 3), (4010, 3))"
      ]
     },
     "execution_count": 18,
     "metadata": {},
     "output_type": "execute_result"
    }
   ],
   "source": [
    "df_fake.shape, df_true.shape"
   ]
  },
  {
   "cell_type": "code",
   "execution_count": 20,
   "id": "ebb8ec61-5e39-4250-aa73-7ca27fda31a1",
   "metadata": {},
   "outputs": [
    {
     "name": "stderr",
     "output_type": "stream",
     "text": [
      "/var/folders/xq/1tpd_wrd2sndfp6f965rpnm00000gn/T/ipykernel_50471/1523065411.py:1: SettingWithCopyWarning: \n",
      "A value is trying to be set on a copy of a slice from a DataFrame.\n",
      "Try using .loc[row_indexer,col_indexer] = value instead\n",
      "\n",
      "See the caveats in the documentation: https://pandas.pydata.org/pandas-docs/stable/user_guide/indexing.html#returning-a-view-versus-a-copy\n",
      "  df_fake_manual_testing['class'] = 0\n",
      "/var/folders/xq/1tpd_wrd2sndfp6f965rpnm00000gn/T/ipykernel_50471/1523065411.py:2: SettingWithCopyWarning: \n",
      "A value is trying to be set on a copy of a slice from a DataFrame.\n",
      "Try using .loc[row_indexer,col_indexer] = value instead\n",
      "\n",
      "See the caveats in the documentation: https://pandas.pydata.org/pandas-docs/stable/user_guide/indexing.html#returning-a-view-versus-a-copy\n",
      "  df_true_manual_testing['class'] = 1\n"
     ]
    }
   ],
   "source": [
    "df_fake_manual_testing['class'] = 0\n",
    "df_true_manual_testing['class'] = 1"
   ]
  },
  {
   "cell_type": "code",
   "execution_count": 22,
   "id": "1e18096b-e733-4976-a89d-5c86dc01ab1b",
   "metadata": {},
   "outputs": [
    {
     "data": {
      "text/html": [
       "<div>\n",
       "<style scoped>\n",
       "    .dataframe tbody tr th:only-of-type {\n",
       "        vertical-align: middle;\n",
       "    }\n",
       "\n",
       "    .dataframe tbody tr th {\n",
       "        vertical-align: top;\n",
       "    }\n",
       "\n",
       "    .dataframe thead th {\n",
       "        text-align: right;\n",
       "    }\n",
       "</style>\n",
       "<table border=\"1\" class=\"dataframe\">\n",
       "  <thead>\n",
       "    <tr style=\"text-align: right;\">\n",
       "      <th></th>\n",
       "      <th>Column1</th>\n",
       "      <th>short_description</th>\n",
       "      <th>class</th>\n",
       "    </tr>\n",
       "  </thead>\n",
       "  <tbody>\n",
       "    <tr>\n",
       "      <th>2694</th>\n",
       "      <td>2695</td>\n",
       "      <td>माचिस की तीली के पाउडर से नहीं होता बिच्छू के...</td>\n",
       "      <td>0</td>\n",
       "    </tr>\n",
       "    <tr>\n",
       "      <th>2695</th>\n",
       "      <td>2696</td>\n",
       "      <td>22 जनवरी को मॉरिशस सरकार नहीं दे रही सार्वजनि...</td>\n",
       "      <td>0</td>\n",
       "    </tr>\n",
       "    <tr>\n",
       "      <th>2696</th>\n",
       "      <td>2697</td>\n",
       "      <td>अयोध्या में पुष्पक विमान और लव-कुश के दिखने ...</td>\n",
       "      <td>0</td>\n",
       "    </tr>\n",
       "    <tr>\n",
       "      <th>2697</th>\n",
       "      <td>2698</td>\n",
       "      <td>पाकिस्तानी हैंडल्स ने किया भारतीय वायुसेना क...</td>\n",
       "      <td>0</td>\n",
       "    </tr>\n",
       "    <tr>\n",
       "      <th>2698</th>\n",
       "      <td>2699</td>\n",
       "      <td>खेसारी लाल का यह वीडियो करीब दो साल पुराना ह...</td>\n",
       "      <td>0</td>\n",
       "    </tr>\n",
       "    <tr>\n",
       "      <th>2699</th>\n",
       "      <td>2700</td>\n",
       "      <td>राजस्थान की महिला MLA की छवि खराब करने के लि...</td>\n",
       "      <td>0</td>\n",
       "    </tr>\n",
       "    <tr>\n",
       "      <th>2700</th>\n",
       "      <td>2701</td>\n",
       "      <td>मध्य प्रदेश की साल 2019 की घटना को हालिया बत...</td>\n",
       "      <td>0</td>\n",
       "    </tr>\n",
       "    <tr>\n",
       "      <th>2701</th>\n",
       "      <td>2702</td>\n",
       "      <td>खुर्जा में बोइंग का वेयरहाउस खुला, लेकिन वायर...</td>\n",
       "      <td>0</td>\n",
       "    </tr>\n",
       "    <tr>\n",
       "      <th>2702</th>\n",
       "      <td>2703</td>\n",
       "      <td>जलते हुए समुद्री जहाज का यह वीडियो 2020 का है...</td>\n",
       "      <td>0</td>\n",
       "    </tr>\n",
       "    <tr>\n",
       "      <th>2703</th>\n",
       "      <td>2704</td>\n",
       "      <td>ढांचे वाली जगह पर ही बन रहा मंदिर, तीन किलोमी...</td>\n",
       "      <td>0</td>\n",
       "    </tr>\n",
       "  </tbody>\n",
       "</table>\n",
       "</div>"
      ],
      "text/plain": [
       "      Column1                                  short_description  class\n",
       "2694     2695   माचिस की तीली के पाउडर से नहीं होता बिच्छू के...      0\n",
       "2695     2696   22 जनवरी को मॉरिशस सरकार नहीं दे रही सार्वजनि...      0\n",
       "2696     2697    अयोध्या में पुष्पक विमान और लव-कुश के दिखने ...      0\n",
       "2697     2698    पाकिस्तानी हैंडल्स ने किया भारतीय वायुसेना क...      0\n",
       "2698     2699    खेसारी लाल का यह वीडियो करीब दो साल पुराना ह...      0\n",
       "2699     2700    राजस्थान की महिला MLA की छवि खराब करने के लि...      0\n",
       "2700     2701    मध्य प्रदेश की साल 2019 की घटना को हालिया बत...      0\n",
       "2701     2702   खुर्जा में बोइंग का वेयरहाउस खुला, लेकिन वायर...      0\n",
       "2702     2703   जलते हुए समुद्री जहाज का यह वीडियो 2020 का है...      0\n",
       "2703     2704   ढांचे वाली जगह पर ही बन रहा मंदिर, तीन किलोमी...      0"
      ]
     },
     "execution_count": 22,
     "metadata": {},
     "output_type": "execute_result"
    }
   ],
   "source": [
    "df_fake_manual_testing.head(10)"
   ]
  },
  {
   "cell_type": "code",
   "execution_count": 23,
   "id": "c1886d8d-60f2-4549-b0d8-bef0a0290999",
   "metadata": {},
   "outputs": [
    {
     "data": {
      "text/html": [
       "<div>\n",
       "<style scoped>\n",
       "    .dataframe tbody tr th:only-of-type {\n",
       "        vertical-align: middle;\n",
       "    }\n",
       "\n",
       "    .dataframe tbody tr th {\n",
       "        vertical-align: top;\n",
       "    }\n",
       "\n",
       "    .dataframe thead th {\n",
       "        text-align: right;\n",
       "    }\n",
       "</style>\n",
       "<table border=\"1\" class=\"dataframe\">\n",
       "  <thead>\n",
       "    <tr style=\"text-align: right;\">\n",
       "      <th></th>\n",
       "      <th>Column1</th>\n",
       "      <th>short_description</th>\n",
       "      <th>class</th>\n",
       "    </tr>\n",
       "  </thead>\n",
       "  <tbody>\n",
       "    <tr>\n",
       "      <th>4010</th>\n",
       "      <td>4011</td>\n",
       "      <td>UP Police Bharti 2024: कॉन्स्टेबल भर्ती परीक्ष...</td>\n",
       "      <td>1</td>\n",
       "    </tr>\n",
       "    <tr>\n",
       "      <th>4011</th>\n",
       "      <td>4012</td>\n",
       "      <td>UP Roadways Bharti: यूपी रोडवेज में कंडक्टर के...</td>\n",
       "      <td>1</td>\n",
       "    </tr>\n",
       "    <tr>\n",
       "      <th>4012</th>\n",
       "      <td>4013</td>\n",
       "      <td>LIVE JEE Main Admit Card 2024: जेईई मेन एडमिट ...</td>\n",
       "      <td>1</td>\n",
       "    </tr>\n",
       "    <tr>\n",
       "      <th>4013</th>\n",
       "      <td>4014</td>\n",
       "      <td>मंहगे होंगे टाटा के सभी पैसेंजर व्हीकल, इनपुट ...</td>\n",
       "      <td>1</td>\n",
       "    </tr>\n",
       "    <tr>\n",
       "      <th>4014</th>\n",
       "      <td>4015</td>\n",
       "      <td>Dark Chocolate: पीरियड्स क्रैम्प से राहत दिला ...</td>\n",
       "      <td>1</td>\n",
       "    </tr>\n",
       "    <tr>\n",
       "      <th>4015</th>\n",
       "      <td>4016</td>\n",
       "      <td>प्राण प्रतिष्ठा की अयोध्या से लेकर कैलिफोर्निय...</td>\n",
       "      <td>1</td>\n",
       "    </tr>\n",
       "    <tr>\n",
       "      <th>4016</th>\n",
       "      <td>4017</td>\n",
       "      <td>छक्का जड़ने पर मिलेंगे 12 रन... जल्द आएगा नया ...</td>\n",
       "      <td>1</td>\n",
       "    </tr>\n",
       "    <tr>\n",
       "      <th>4017</th>\n",
       "      <td>4018</td>\n",
       "      <td>Power Consumption: चालू वित्त वर्ष की अप्रैल-द...</td>\n",
       "      <td>1</td>\n",
       "    </tr>\n",
       "    <tr>\n",
       "      <th>4018</th>\n",
       "      <td>4019</td>\n",
       "      <td>Entertainment Top 5 News 21 Jan: 'फाइटर' में क...</td>\n",
       "      <td>1</td>\n",
       "    </tr>\n",
       "    <tr>\n",
       "      <th>4019</th>\n",
       "      <td>4020</td>\n",
       "      <td>Ram Mandir के लिए 'सालार' के मेकर्स ने तैयार क...</td>\n",
       "      <td>1</td>\n",
       "    </tr>\n",
       "  </tbody>\n",
       "</table>\n",
       "</div>"
      ],
      "text/plain": [
       "      Column1                                  short_description  class\n",
       "4010     4011  UP Police Bharti 2024: कॉन्स्टेबल भर्ती परीक्ष...      1\n",
       "4011     4012  UP Roadways Bharti: यूपी रोडवेज में कंडक्टर के...      1\n",
       "4012     4013  LIVE JEE Main Admit Card 2024: जेईई मेन एडमिट ...      1\n",
       "4013     4014  मंहगे होंगे टाटा के सभी पैसेंजर व्हीकल, इनपुट ...      1\n",
       "4014     4015  Dark Chocolate: पीरियड्स क्रैम्प से राहत दिला ...      1\n",
       "4015     4016  प्राण प्रतिष्ठा की अयोध्या से लेकर कैलिफोर्निय...      1\n",
       "4016     4017  छक्का जड़ने पर मिलेंगे 12 रन... जल्द आएगा नया ...      1\n",
       "4017     4018  Power Consumption: चालू वित्त वर्ष की अप्रैल-द...      1\n",
       "4018     4019  Entertainment Top 5 News 21 Jan: 'फाइटर' में क...      1\n",
       "4019     4020  Ram Mandir के लिए 'सालार' के मेकर्स ने तैयार क...      1"
      ]
     },
     "execution_count": 23,
     "metadata": {},
     "output_type": "execute_result"
    }
   ],
   "source": [
    "df_true_manual_testing.head(10)"
   ]
  },
  {
   "cell_type": "markdown",
   "id": "8a15416b-8e2f-4c0c-9acc-93f234007a19",
   "metadata": {},
   "source": [
    "### Merging true and fake dataframes into a single data frame:"
   ]
  },
  {
   "cell_type": "code",
   "execution_count": 26,
   "id": "487ffdfc-1290-4f0f-9dd9-83324e407b71",
   "metadata": {},
   "outputs": [],
   "source": [
    "df_merge = pd.concat([df_fake, df_true], axis = 0)"
   ]
  },
  {
   "cell_type": "code",
   "execution_count": 28,
   "id": "88235ea5-f066-4fae-8d6a-5db1e9447be0",
   "metadata": {},
   "outputs": [
    {
     "data": {
      "text/plain": [
       "(   Column1                                  short_description  class\n",
       " 0        1   गडकरी ने नहीं दिया है पीएम मोदी और राम मंदिर ...      0\n",
       " 1        2   राम मंदिर वहीं बना है जहां रामलला विराजमान थे...      0\n",
       " 2        3   यूपी में बोर्ड की परीक्षा नहीं हुई है रद्द, य...      0\n",
       " 3        4   नेपाल से अयोध्या के जुलूस का नहीं, ये ग्रेटर ...      0\n",
       " 4        5   एमपी का सीएम बनने के बाद मोहन यादव ने दी जनता...      0,\n",
       "       Column1                                  short_description  class\n",
       " 4005     4006  फ्लाइट में लगे 'जय श्री राम' के नारे, फ्लैग लि...      1\n",
       " 4006     4007  Russia-Ukraine War: रूस के कब्जे वाले यूक्रेन ...      1\n",
       " 4007     4008  Ramlala Pran Pratishtha: प्राण-प्रतिष्ठा के दि...      1\n",
       " 4008     4009  Vladimir Putin North Korea Visit: उत्तर कोरिया...      1\n",
       " 4009     4010  School Close on 22 January: राम मंदिर उद्घाटन ...      1)"
      ]
     },
     "execution_count": 28,
     "metadata": {},
     "output_type": "execute_result"
    }
   ],
   "source": [
    "df_merge.head(5), df_merge.tail(5)"
   ]
  },
  {
   "cell_type": "markdown",
   "id": "3e9ce9c4-ff2e-47f3-b039-f58b675bc040",
   "metadata": {},
   "source": [
    "## 3. Data Cleaning: "
   ]
  },
  {
   "cell_type": "code",
   "execution_count": 29,
   "id": "0bfa84a6-16ee-4472-beee-1254916a424c",
   "metadata": {},
   "outputs": [
    {
     "name": "stdout",
     "output_type": "stream",
     "text": [
      "<class 'pandas.core.frame.DataFrame'>\n",
      "Index: 6704 entries, 0 to 4009\n",
      "Data columns (total 3 columns):\n",
      " #   Column             Non-Null Count  Dtype \n",
      "---  ------             --------------  ----- \n",
      " 0   Column1            6704 non-null   int64 \n",
      " 1   short_description  6704 non-null   object\n",
      " 2   class              6704 non-null   int64 \n",
      "dtypes: int64(2), object(1)\n",
      "memory usage: 209.5+ KB\n"
     ]
    }
   ],
   "source": [
    "df_merge.info()"
   ]
  },
  {
   "cell_type": "code",
   "execution_count": 33,
   "id": "d3353b36-c55c-4e9c-9360-ed2e15665e68",
   "metadata": {},
   "outputs": [],
   "source": [
    "df=df_merge.drop(['Column1'], axis = 1)"
   ]
  },
  {
   "cell_type": "markdown",
   "id": "f473f3e2-f3f9-4590-902b-ee666ce3315a",
   "metadata": {},
   "source": [
    "### Count missing values:"
   ]
  },
  {
   "cell_type": "code",
   "execution_count": 34,
   "id": "67c61201-e820-4782-a41f-b48d20d1ea19",
   "metadata": {},
   "outputs": [
    {
     "data": {
      "text/plain": [
       "short_description    0\n",
       "class                0\n",
       "dtype: int64"
      ]
     },
     "execution_count": 34,
     "metadata": {},
     "output_type": "execute_result"
    }
   ],
   "source": [
    "df.isnull().sum()"
   ]
  },
  {
   "cell_type": "markdown",
   "id": "a42f9acc-916e-4bb1-8316-06a4c1dbdb99",
   "metadata": {},
   "source": [
    "### Randomly shuffling the dataframe:"
   ]
  },
  {
   "cell_type": "code",
   "execution_count": 35,
   "id": "1b75e92e-4c2c-467e-8463-95d6f837920a",
   "metadata": {},
   "outputs": [],
   "source": [
    "df = df.sample(frac = 1)"
   ]
  },
  {
   "cell_type": "code",
   "execution_count": 36,
   "id": "75a4a427-5bb0-4a9e-b2e1-24ba4e39236f",
   "metadata": {},
   "outputs": [
    {
     "data": {
      "text/html": [
       "<div>\n",
       "<style scoped>\n",
       "    .dataframe tbody tr th:only-of-type {\n",
       "        vertical-align: middle;\n",
       "    }\n",
       "\n",
       "    .dataframe tbody tr th {\n",
       "        vertical-align: top;\n",
       "    }\n",
       "\n",
       "    .dataframe thead th {\n",
       "        text-align: right;\n",
       "    }\n",
       "</style>\n",
       "<table border=\"1\" class=\"dataframe\">\n",
       "  <thead>\n",
       "    <tr style=\"text-align: right;\">\n",
       "      <th></th>\n",
       "      <th>short_description</th>\n",
       "      <th>class</th>\n",
       "    </tr>\n",
       "  </thead>\n",
       "  <tbody>\n",
       "    <tr>\n",
       "      <th>681</th>\n",
       "      <td>राजनाथ ने नहीं किया PM मोदी से महंगाई पर सवाल,...</td>\n",
       "      <td>0</td>\n",
       "    </tr>\n",
       "    <tr>\n",
       "      <th>1681</th>\n",
       "      <td>कावेरी का पानी तमिलनाडु को देने पर बीजेपी सहित...</td>\n",
       "      <td>1</td>\n",
       "    </tr>\n",
       "    <tr>\n",
       "      <th>2535</th>\n",
       "      <td>मध्य प्रदेश की साल 2019 की घटना को हालिया बत...</td>\n",
       "      <td>0</td>\n",
       "    </tr>\n",
       "    <tr>\n",
       "      <th>894</th>\n",
       "      <td>17 दिन बाद पहाड़ का सीना चीर बाहर आया पहला मजद...</td>\n",
       "      <td>1</td>\n",
       "    </tr>\n",
       "    <tr>\n",
       "      <th>2679</th>\n",
       "      <td>Ram Mandir के लिए 'सालार' के मेकर्स ने तैयार क...</td>\n",
       "      <td>1</td>\n",
       "    </tr>\n",
       "  </tbody>\n",
       "</table>\n",
       "</div>"
      ],
      "text/plain": [
       "                                      short_description  class\n",
       "681   राजनाथ ने नहीं किया PM मोदी से महंगाई पर सवाल,...      0\n",
       "1681  कावेरी का पानी तमिलनाडु को देने पर बीजेपी सहित...      1\n",
       "2535    मध्य प्रदेश की साल 2019 की घटना को हालिया बत...      0\n",
       "894   17 दिन बाद पहाड़ का सीना चीर बाहर आया पहला मजद...      1\n",
       "2679  Ram Mandir के लिए 'सालार' के मेकर्स ने तैयार क...      1"
      ]
     },
     "execution_count": 36,
     "metadata": {},
     "output_type": "execute_result"
    }
   ],
   "source": [
    "df.head()"
   ]
  },
  {
   "cell_type": "code",
   "execution_count": 37,
   "id": "f5c6cd1b-e251-4bfd-b32a-f7a4efaa6db1",
   "metadata": {},
   "outputs": [],
   "source": [
    "df.reset_index(inplace = True)\n",
    "df.drop(['index'], axis=1, inplace=True)"
   ]
  },
  {
   "cell_type": "code",
   "execution_count": 38,
   "id": "14ac54d8-d6a9-4581-960e-182c566d6a76",
   "metadata": {},
   "outputs": [
    {
     "data": {
      "text/html": [
       "<div>\n",
       "<style scoped>\n",
       "    .dataframe tbody tr th:only-of-type {\n",
       "        vertical-align: middle;\n",
       "    }\n",
       "\n",
       "    .dataframe tbody tr th {\n",
       "        vertical-align: top;\n",
       "    }\n",
       "\n",
       "    .dataframe thead th {\n",
       "        text-align: right;\n",
       "    }\n",
       "</style>\n",
       "<table border=\"1\" class=\"dataframe\">\n",
       "  <thead>\n",
       "    <tr style=\"text-align: right;\">\n",
       "      <th></th>\n",
       "      <th>short_description</th>\n",
       "      <th>class</th>\n",
       "    </tr>\n",
       "  </thead>\n",
       "  <tbody>\n",
       "    <tr>\n",
       "      <th>0</th>\n",
       "      <td>राजनाथ ने नहीं किया PM मोदी से महंगाई पर सवाल,...</td>\n",
       "      <td>0</td>\n",
       "    </tr>\n",
       "    <tr>\n",
       "      <th>1</th>\n",
       "      <td>कावेरी का पानी तमिलनाडु को देने पर बीजेपी सहित...</td>\n",
       "      <td>1</td>\n",
       "    </tr>\n",
       "    <tr>\n",
       "      <th>2</th>\n",
       "      <td>मध्य प्रदेश की साल 2019 की घटना को हालिया बत...</td>\n",
       "      <td>0</td>\n",
       "    </tr>\n",
       "    <tr>\n",
       "      <th>3</th>\n",
       "      <td>17 दिन बाद पहाड़ का सीना चीर बाहर आया पहला मजद...</td>\n",
       "      <td>1</td>\n",
       "    </tr>\n",
       "    <tr>\n",
       "      <th>4</th>\n",
       "      <td>Ram Mandir के लिए 'सालार' के मेकर्स ने तैयार क...</td>\n",
       "      <td>1</td>\n",
       "    </tr>\n",
       "    <tr>\n",
       "      <th>...</th>\n",
       "      <td>...</td>\n",
       "      <td>...</td>\n",
       "    </tr>\n",
       "    <tr>\n",
       "      <th>6699</th>\n",
       "      <td>थाईलैंड किंग Rama V के समय पाए जाने वाले रहस्...</td>\n",
       "      <td>0</td>\n",
       "    </tr>\n",
       "    <tr>\n",
       "      <th>6700</th>\n",
       "      <td>आंध्र प्रदेश के पूर्व सीएम चंद्रबाबू नायडू गिर...</td>\n",
       "      <td>1</td>\n",
       "    </tr>\n",
       "    <tr>\n",
       "      <th>6701</th>\n",
       "      <td>राम मंदिर प्राण-प्रतिष्ठा: मंदिर परिसर में प्र...</td>\n",
       "      <td>1</td>\n",
       "    </tr>\n",
       "    <tr>\n",
       "      <th>6702</th>\n",
       "      <td>प्राण प्रतिष्ठा की अयोध्या से लेकर कैलिफोर्निय...</td>\n",
       "      <td>1</td>\n",
       "    </tr>\n",
       "    <tr>\n",
       "      <th>6703</th>\n",
       "      <td>सामने आए संसद में हड़कंप मचाने वाले दोनों युवक...</td>\n",
       "      <td>1</td>\n",
       "    </tr>\n",
       "  </tbody>\n",
       "</table>\n",
       "<p>6704 rows × 2 columns</p>\n",
       "</div>"
      ],
      "text/plain": [
       "                                      short_description  class\n",
       "0     राजनाथ ने नहीं किया PM मोदी से महंगाई पर सवाल,...      0\n",
       "1     कावेरी का पानी तमिलनाडु को देने पर बीजेपी सहित...      1\n",
       "2       मध्य प्रदेश की साल 2019 की घटना को हालिया बत...      0\n",
       "3     17 दिन बाद पहाड़ का सीना चीर बाहर आया पहला मजद...      1\n",
       "4     Ram Mandir के लिए 'सालार' के मेकर्स ने तैयार क...      1\n",
       "...                                                 ...    ...\n",
       "6699   थाईलैंड किंग Rama V के समय पाए जाने वाले रहस्...      0\n",
       "6700  आंध्र प्रदेश के पूर्व सीएम चंद्रबाबू नायडू गिर...      1\n",
       "6701  राम मंदिर प्राण-प्रतिष्ठा: मंदिर परिसर में प्र...      1\n",
       "6702  प्राण प्रतिष्ठा की अयोध्या से लेकर कैलिफोर्निय...      1\n",
       "6703  सामने आए संसद में हड़कंप मचाने वाले दोनों युवक...      1\n",
       "\n",
       "[6704 rows x 2 columns]"
      ]
     },
     "execution_count": 38,
     "metadata": {},
     "output_type": "execute_result"
    }
   ],
   "source": [
    "df"
   ]
  },
  {
   "cell_type": "markdown",
   "id": "7f54c507-2c11-4f91-8a99-279a37afda1b",
   "metadata": {},
   "source": [
    "## 4. Preprocessing Text:"
   ]
  },
  {
   "cell_type": "markdown",
   "id": "98a2ab31-cc88-4c13-b8e9-c35c9bc053d3",
   "metadata": {},
   "source": [
    "### Creating a function to convert the text in lowercase, remove the extra space, special chr., ulr and links."
   ]
  },
  {
   "cell_type": "code",
   "execution_count": null,
   "id": "60a0463a-51d2-43c6-b7c0-f939ce635b83",
   "metadata": {},
   "outputs": [],
   "source": [
    "def wordopt(text):\n",
    "    text = text.lower()\n",
    "    text = re.sub('\\[.*?\\]','',text)\n",
    "    text = re.sub(\"\\\\W\",\" \",text)\n",
    "    text = re.sub('https?://\\S+|www\\.\\S+','',text)\n",
    "    text = re.sub('<.*?>+',b'',text)\n",
    "    text = re.sub('[%s]' % re.escape(string.punctuation),'',text)\n",
    "    text = re.sub('\\w*\\d\\w*','',text)\n",
    "    return text"
   ]
  }
 ],
 "metadata": {
  "kernelspec": {
   "display_name": "Python 3 (ipykernel)",
   "language": "python",
   "name": "python3"
  },
  "language_info": {
   "codemirror_mode": {
    "name": "ipython",
    "version": 3
   },
   "file_extension": ".py",
   "mimetype": "text/x-python",
   "name": "python",
   "nbconvert_exporter": "python",
   "pygments_lexer": "ipython3",
   "version": "3.12.4"
  }
 },
 "nbformat": 4,
 "nbformat_minor": 5
}
